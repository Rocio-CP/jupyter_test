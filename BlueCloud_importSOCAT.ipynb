{
 "cells": [
  {
   "cell_type": "code",
   "execution_count": null,
   "id": "d47d483c",
   "metadata": {},
   "outputs": [],
   "source": [
    "import pandas as pd\n",
    "import time\n",
    "from erddapy import ERDDAP"
   ]
  },
  {
   "cell_type": "code",
   "execution_count": null,
   "id": "34ac786d",
   "metadata": {},
   "outputs": [],
   "source": [
    "socatdoi='10.25921/yg69-jd96' # The SOCAT collection DOI info is not in ERDDAP (or can't find it)\n",
    "flagaccuracy = {\"A\": 2.0, \"B\": 2.0, \"C\": 5.0, \"D\": 5.0, \"E\": 10.0}"
   ]
  },
  {
   "cell_type": "code",
   "execution_count": null,
   "id": "280ad4b4",
   "metadata": {},
   "outputs": [],
   "source": [
    "e = ERDDAP(\n",
    "        server='https://data.pmel.noaa.gov/socat/erddap',\n",
    "        protocol='tabledap',\n",
    "    )\n",
    "\n",
    "e.response = 'csv'\n",
    "e.dataset_id = 'socat_v2021_fulldata'\n",
    "e.constraints = {\n",
    "        # 'dist_to_land>=': 10\n",
    "        # 'region_id=': A,C,I,N,O,R,T,Z\n",
    "        # 'expocode=':'74AB19900918',\n",
    "        'time>=': mindate,\n",
    "        'time<=': maxdate,\n",
    "        'latitude>=': minlat,\n",
    "        'latitude<=': maxlat,\n",
    "        'longitude>=': minlon,\n",
    "        'longitude<=': maxlon,\n",
    "        'WOCE_CO2_water=': \"2\" #synthesis file only has good data (keep questionable/bad?)\n",
    "        # 'fCO2_water_sst_100humidity_uatm=~':\"float('nan')\" # Have yet to figure out how to set the nan filter\n",
    "    }\n",
    "e.variables = ['expocode','time','latitude','longitude','depth','sal','temp',\n",
    "                   'fCO2_recommended','qc_flag','WOCE_CO2_water','socat_doi']\n",
    "tempdf = e.to_pandas(dtype={10: str, 8: str, 0: str})\n",
    "\n",
    "    # Retain only valid fco2 values (can't figure out how to do it in erdappy constrains yet)\n",
    "tempdf=tempdf.dropna(subset=['fCO2_recommended (uatm)']).copy()\n",
    "tempdf.reset_index(drop=True, inplace=True)\n",
    "\n",
    "    # Rename columns\n",
    "tempdf.rename(\n",
    "        columns={'expocode': vardict['id'], 'socat_doi':vardict['doi'],\n",
    "                 'latitude (degrees_north)': vardict['lat'], 'longitude (degrees_east)': vardict['lon'],\n",
    "                 'depth (m)': vardict['dep'], 'temp (degrees C)': vardict['temp'], 'sal (PSU)': vardict['sal'],\n",
    "                 'fCO2_recommended (uatm)': vardict['fco2w'], 'WOCE_CO2_water': vardict['fco2wf'],\n",
    "                 'qc_flag':'Cruise_flag'},\n",
    "        inplace=True)\n",
    "\n",
    "    # Create python date object\n",
    "tempdf['DATEVECTOR1'] = pd.to_datetime(tempdf['time (UTC)'])\n",
    "tempdf[vardict['unixd']] = tempdf['DATEVECTOR1'].astype('int64') // 10 ** 9\n",
    "tempdf[vardict['datevec']] = tempdf['DATEVECTOR1'].dt.strftime('%Y-%m-%dT%H:%M:%SZ')\n"
   ]
  },
  {
   "cell_type": "code",
   "execution_count": null,
   "id": "291c9a96",
   "metadata": {},
   "outputs": [],
   "source": [
    "# Assign accuracies following cruise flags\n",
    "tempdf[vardict['fco2wac']] = 0.0\n",
    "for key in flagaccuracy:\n",
    "    tempdf[vardict['fco2wac']].values[tempdf['Cruise_flag'] == key] = flagaccuracy[key]\n",
    "# Flag fco2 as measured\n",
    "#tempdf[vardict['fco2wc']]=0\n",
    "\n",
    "# Estimate alkalinity from salinity, and then, estimate ph and dic\n",
    "\n",
    "# Assign SOCAT DOI if Source DOI is missing\n",
    "tempdf.loc[tempdf[vardict['doi']].isna(), vardict['doi']] = socatdoi\n",
    "\n",
    "# Add source (SOCAT, GLODAP, ARGO, etc...)\n",
    "tempdf['SOURCE'] = source\n",
    "\n",
    "# Rename and reset indices\n",
    "socatdf=tempdf\n",
    "socatdf.reset_index(drop=True, inplace=True)\n",
    "\n",
    "print('SOCAT frame size is ')\n",
    "print(socatdf.shape)"
   ]
  }
 ],
 "metadata": {
  "kernelspec": {
   "display_name": "Python 3 (ipykernel)",
   "language": "python",
   "name": "python3"
  },
  "language_info": {
   "codemirror_mode": {
    "name": "ipython",
    "version": 3
   },
   "file_extension": ".py",
   "mimetype": "text/x-python",
   "name": "python",
   "nbconvert_exporter": "python",
   "pygments_lexer": "ipython3",
   "version": "3.9.7"
  }
 },
 "nbformat": 4,
 "nbformat_minor": 5
}
